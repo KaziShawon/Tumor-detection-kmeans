{
 "cells": [
  {
   "cell_type": "code",
   "execution_count": 23,
   "metadata": {},
   "outputs": [],
   "source": [
    "import numpy as np\n",
    "import matplotlib.pyplot as plt\n",
    "from scipy.spatial.distance import cdist"
   ]
  },
  {
   "cell_type": "code",
   "execution_count": 3,
   "metadata": {},
   "outputs": [],
   "source": [
    "np.random.seed(14)\n",
    "n = 20\n",
    "p = 2\n",
    "k = 3\n",
    "X = np.random.random((n,p))\n"
   ]
  },
  {
   "cell_type": "code",
   "execution_count": 4,
   "metadata": {},
   "outputs": [
    {
     "data": {
      "text/plain": [
       "<matplotlib.collections.PathCollection at 0x7fbb5736bee0>"
      ]
     },
     "execution_count": 4,
     "metadata": {},
     "output_type": "execute_result"
    },
    {
     "data": {
      "image/png": "[encoded data removed]",
      "text/plain": [
       "<Figure size 432x288 with 1 Axes>"
      ]
     },
     "metadata": {
      "needs_background": "light"
     },
     "output_type": "display_data"
    }
   ],
   "source": [
    "plt.scatter(X[:,0], X[:,1])"
   ]
  },
  {
   "cell_type": "code",
   "execution_count": 5,
   "metadata": {},
   "outputs": [],
   "source": [
    "# init centers\n",
    "# while not converged:\n",
    "#   update cluster membership\n",
    "#   update centers\n"
   ]
  },
  {
   "cell_type": "code",
   "execution_count": 8,
   "metadata": {},
   "outputs": [],
   "source": [
    "# init centers\n",
    "centers = X[np.random.choice(n, k, replace=False)]"
   ]
  },
  {
   "cell_type": "code",
   "execution_count": 11,
   "metadata": {},
   "outputs": [
    {
     "data": {
      "text/plain": [
       "0.5208284605891502"
      ]
     },
     "execution_count": 11,
     "metadata": {},
     "output_type": "execute_result"
    }
   ],
   "source": [
    "# Eucledian Distance\n",
    "((X[0] - centers[0])**2).sum()**0.5"
   ]
  },
  {
   "cell_type": "code",
   "execution_count": 14,
   "metadata": {},
   "outputs": [
    {
     "data": {
      "text/plain": [
       "array([0.27126229, 0.1157839 , 0.62541056, 0.08663739, 0.08608028,\n",
       "       0.        , 0.18475782, 0.03526146, 0.01691859, 0.18006641,\n",
       "       0.0579889 , 0.27402653, 0.02500186, 0.11015911, 0.39037498,\n",
       "       0.07360213, 0.08193665, 0.16583048, 0.58022214, 0.14877818])"
      ]
     },
     "execution_count": 14,
     "metadata": {},
     "output_type": "execute_result"
    }
   ],
   "source": [
    "# difference between one particular center, numpy automatically makes 1d-array to 2-d array when used for subtraction from 2d-array\n",
    "\n",
    "((X-centers[0])**2).sum(axis=1) # X is 2d array, centers[0]-1d array"
   ]
  },
  {
   "cell_type": "code",
   "execution_count": 17,
   "metadata": {},
   "outputs": [
    {
     "data": {
      "text/plain": [
       "array([[1.46874730e-03, 8.82780690e-02, 5.84850165e-02],\n",
       "       [2.08085084e-05, 7.54023767e-12, 1.22669529e-10],\n",
       "       [9.56810731e-02, 1.59719927e+00, 1.17454477e+00],\n",
       "       [4.88120107e-06, 2.84748434e-04, 1.46461549e-04],\n",
       "       [4.72626841e-06, 5.44716939e-05, 2.71517095e-05],\n",
       "       [0.00000000e+00, 2.15999097e-06, 6.55728770e-07],\n",
       "       [2.15285188e-04, 3.37709570e-05, 2.57568267e-05],\n",
       "       [5.45131655e-08, 9.16687105e-07, 2.80419012e-07],\n",
       "       [1.38618181e-09, 4.88392580e-06, 2.16228469e-06],\n",
       "       [1.89305604e-04, 2.55790858e-02, 1.65645298e-02],\n",
       "       [6.55728770e-07, 1.03292046e-15, 0.00000000e+00],\n",
       "       [1.54512290e-03, 3.07558933e-02, 2.02493679e-02],\n",
       "       [9.76925330e-09, 2.60537472e-06, 8.29595112e-07],\n",
       "       [1.62219103e-05, 6.37387984e-03, 3.78286716e-03],\n",
       "       [9.06587802e-03, 5.25426293e-02, 3.76360558e-02],\n",
       "       [2.15999097e-06, 0.00000000e+00, 1.03292046e-15],\n",
       "       [3.69309900e-06, 3.45959088e-09, 1.70854892e-09],\n",
       "       [1.25407019e-04, 2.03397680e-02, 1.29537897e-02],\n",
       "       [6.57614644e-02, 1.30425153e+00, 9.53989193e-01],\n",
       "       [7.28947497e-05, 3.27442748e-04, 1.96364705e-04]])"
      ]
     },
     "execution_count": 17,
     "metadata": {},
     "output_type": "execute_result"
    }
   ],
   "source": [
    "((X.reshape(n,1,p)-centers.reshape(1,k,p))**2).sum(axis=2)**5"
   ]
  },
  {
   "cell_type": "code",
   "execution_count": 21,
   "metadata": {},
   "outputs": [
    {
     "data": {
      "text/plain": [
       "array([[0.52082846, 0.78448615, 0.75284308],\n",
       "       [0.34027034, 0.07722155, 0.10206425],\n",
       "       [0.79082903, 1.04793878, 1.01621817],\n",
       "       [0.29434229, 0.44202429, 0.41359222],\n",
       "       [0.29339441, 0.37464254, 0.34944571],\n",
       "       [0.        , 0.27129713, 0.24080884],\n",
       "       [0.42983464, 0.35715303, 0.34760758],\n",
       "       [0.18778035, 0.24901305, 0.22119777],\n",
       "       [0.13007146, 0.29435872, 0.27132592],\n",
       "       [0.42434232, 0.6930882 , 0.66361762],\n",
       "       [0.24080884, 0.03172537, 0.        ],\n",
       "       [0.52347543, 0.70598071, 0.67708181],\n",
       "       [0.15811976, 0.27643117, 0.24653956],\n",
       "       [0.33190225, 0.60317091, 0.57250872],\n",
       "       [0.62479995, 0.74481974, 0.72037795],\n",
       "       [0.27129713, 0.        , 0.03172537],\n",
       "       [0.28624578, 0.14252875, 0.13281978],\n",
       "       [0.40722289, 0.67738348, 0.64749987],\n",
       "       [0.76172314, 1.02691887, 0.99530078],\n",
       "       [0.38571775, 0.44824302, 0.42589873]])"
      ]
     },
     "execution_count": 21,
     "metadata": {},
     "output_type": "execute_result"
    }
   ],
   "source": [
    "distances = np.zeros((n,k))\n",
    "for i in range(k):\n",
    "    distances[:,i] = ((X-centers[i])**2).sum(axis=1)**0.5\n",
    "distances"
   ]
  },
  {
   "cell_type": "code",
   "execution_count": 25,
   "metadata": {},
   "outputs": [],
   "source": [
    "distances = cdist(X, centers) # It's same as the upper block but you can't modify it as before cell"
   ]
  },
  {
   "cell_type": "code",
   "execution_count": 27,
   "metadata": {},
   "outputs": [],
   "source": [
    "closest = np.argmin(distances, axis=1)"
   ]
  },
  {
   "cell_type": "code",
   "execution_count": 30,
   "metadata": {},
   "outputs": [
    {
     "data": {
      "text/plain": [
       "array([0.56588855, 0.50635366])"
      ]
     },
     "execution_count": 30,
     "metadata": {},
     "output_type": "execute_result"
    }
   ],
   "source": [
    "X[closest == 0].mean(axis=0)"
   ]
  },
  {
   "cell_type": "code",
   "execution_count": 29,
   "metadata": {},
   "outputs": [
    {
     "data": {
      "text/plain": [
       "array([[0.56588855, 0.50635366],\n",
       "       [0.87898257, 0.04569805],\n",
       "       [0.71865081, 0.059445  ]])"
      ]
     },
     "execution_count": 29,
     "metadata": {},
     "output_type": "execute_result"
    }
   ],
   "source": [
    "for i in range(k):\n",
    "    centers[i,:] = X[closest == i].mean(axis=0)\n",
    "centers"
   ]
  },
  {
   "cell_type": "code",
   "execution_count": 42,
   "metadata": {},
   "outputs": [
    {
     "name": "stdout",
     "output_type": "stream",
     "text": [
      "[0 0 0 0 0 0 0 0 0 0 0 0 0 0 0 0 0 0 0 0]\n",
      "[1 2 1 2 2 0 2 2 0 1 2 1 2 1 2 2 2 1 1 2]\n"
     ]
    }
   ],
   "source": [
    "np.random.seed(416)\n",
    "centers = X[np.random.choice(n, k, replace=False)]\n",
    "closest = np.zeros(n).astype(int)\n",
    "while True:\n",
    "    old_closest = closest.copy()\n",
    "    print(closest)\n",
    "    distances = cdist(X, centers)\n",
    "    closest = np.argmin(distances, axis=1)\n",
    "\n",
    "    for i in range(k):\n",
    "        centers[i,:] = X[closest == i].mean(axis=0)\n",
    "\n",
    "    if all(closest == old_closest):\n",
    "        break"
   ]
  },
  {
   "cell_type": "code",
   "execution_count": 41,
   "metadata": {},
   "outputs": [
    {
     "data": {
      "text/plain": [
       "<matplotlib.collections.PathCollection at 0x7fbb4d70fca0>"
      ]
     },
     "execution_count": 41,
     "metadata": {},
     "output_type": "execute_result"
    },
    {
     "data": {
      "image/png": "[encoded data removed]",
      "text/plain": [
       "<Figure size 432x288 with 1 Axes>"
      ]
     },
     "metadata": {
      "needs_background": "light"
     },
     "output_type": "display_data"
    }
   ],
   "source": [
    "plt.scatter(X[:,0], X[:,1], c=closest)"
   ]
  },
  {
   "cell_type": "code",
   "execution_count": 43,
   "metadata": {},
   "outputs": [],
   "source": [
    "def kmeans(X, k):\n",
    "    n = X.shape[0]\n",
    "    centers = X[np.random.choice(n, k, replace=False)]\n",
    "    closest = np.zeros(n).astype(int)\n",
    "    while True:\n",
    "        old_closest = closest.copy()\n",
    "        distances = cdist(X, centers)\n",
    "        closest = np.argmin(distances, axis=1)\n",
    "\n",
    "        for i in range(k):\n",
    "            centers[i,:] = X[closest == i].mean(axis=0)\n",
    "\n",
    "        if all(closest == old_closest):\n",
    "            break\n",
    "    \n",
    "    return closest, centers"
   ]
  },
  {
   "cell_type": "code",
   "execution_count": 44,
   "metadata": {},
   "outputs": [],
   "source": [
    "labels, centers = kmeans(X, 3)"
   ]
  },
  {
   "cell_type": "code",
   "execution_count": 45,
   "metadata": {},
   "outputs": [
    {
     "name": "stdout",
     "output_type": "stream",
     "text": [
      "[1 0 1 2 2 0 0 0 0 1 0 2 0 1 2 0 0 1 1 2]\n",
      "[[0.77767175 0.16153858]\n",
      " [0.56944108 0.8141337 ]\n",
      " [0.39731074 0.30527733]]\n"
     ]
    }
   ],
   "source": [
    "print(labels)\n",
    "print(centers)"
   ]
  }
 ],
 "metadata": {
  "interpreter": {
   "hash": "b9fcc4458ecc6668375a929f4a9a874733f0442a2f439db90fea59b3db085689"
  },
  "kernelspec": {
   "display_name": "Python 3.8.11 ('image_processing')",
   "language": "python",
   "name": "python3"
  },
  "language_info": {
   "codemirror_mode": {
    "name": "ipython",
    "version": 3
   },
   "file_extension": ".py",
   "mimetype": "text/x-python",
   "name": "python",
   "nbconvert_exporter": "python",
   "pygments_lexer": "ipython3",
   "version": "3.8.11"
  },
  "orig_nbformat": 4
 },
 "nbformat": 4,
 "nbformat_minor": 2
}
